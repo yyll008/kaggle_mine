{
 "cells": [
  {
   "cell_type": "markdown",
   "metadata": {
    "_cell_guid": "5da455c0-d393-4d92-bdf3-4c145666be7f",
    "_uuid": "91bb06a88d03d211c702f27a2d9f573950bf9b36"
   },
   "source": [
    "I made cosmetic changes in the [code](https://www.kaggle.com/aharless/kaggle-runnable-version-of-baris-kanber-s-lightgbm/code). Added some new features. Ran for 25mil chunk rows."
   ]
  },
  {
   "cell_type": "code",
   "execution_count": 1,
   "metadata": {},
   "outputs": [
    {
     "name": "stdout",
     "output_type": "stream",
     "text": [
      "['sample_submission.csv', 'test.csv', 'train.csv', 'test_supplement.csv']\n",
      "Reading trian file and extracting day and hour...\n",
      "Parsing day, hour from date and making new features\n",
      "[1 2 3]\n",
      "Time taken: 0 hours 2 minutes and 39.63 seconds.\n"
     ]
    }
   ],
   "source": [
    "# maiking train and val csv's\n",
    "\n",
    "import numpy as np # linear algebra\n",
    "import pandas as pd # data processing, CSV file I/O (e.g. pd.read_csv)\n",
    "from datetime import datetime\n",
    "\n",
    "\n",
    "import os\n",
    "print(os.listdir(\"../input\"))\n",
    "\n",
    "TRAIN_PATH = \"../input/train.csv\"\n",
    "SKIP = range(1,9308569) #to skip day 6\n",
    "\n",
    "CATEGORICAL = ['app', 'device', 'os', 'channel']\n",
    "\n",
    "TRAIN_COLUMNS = ['ip', 'app', 'device', 'os', 'channel', 'click_time', 'is_attributed']\n",
    "\n",
    "DTYPES = {\n",
    "        'ip'            : 'uint32',\n",
    "        'app'           : 'uint16',\n",
    "        'device'        : 'uint16',\n",
    "        'os'            : 'uint16',\n",
    "        'channel'       : 'uint16',\n",
    "        'is_attributed' : 'uint8',\n",
    "        }\n",
    "\n",
    "###################HELPER FUNCTIONS#####################################################\n",
    "def timer(start_time=None):\n",
    "    \"\"\"Prints time\n",
    "    \n",
    "    Initiate a time object, and prints total time consumed when again initialized object is passed as argument\n",
    "    \n",
    "    Keyword Arguments:\n",
    "        start_time {[object]} -- initialized time object (default: {None})\n",
    "    \n",
    "    \"\"\"\n",
    "    \n",
    "    if not start_time:\n",
    "        start_time = datetime.now()\n",
    "        return start_time\n",
    "    elif start_time:\n",
    "        thour, temp_sec = divmod((datetime.now() - start_time).total_seconds(), 3600)\n",
    "        tmin, tsec = divmod(temp_sec, 60)\n",
    "        print('Time taken: %i hours %i minutes and %s seconds.' % (thour, tmin, round(tsec, 2)))\n",
    "\n",
    "def dataPreProcessTime(df):\n",
    "    # Make some new features with click_time column\n",
    "    df['date_time'] = pd.to_datetime(df['click_time'])\n",
    "    df['day']      = df['date_time'].dt.dayofweek.astype('uint8')\n",
    "    df['hour']      = df['date_time'].dt.hour.astype('uint8')\n",
    "    # df['min'] = df['click_time'].dt.minute.astype('uint8')\n",
    "    # df['sec'] = df['click_time'].dt.second.astype('uint8')\n",
    "    df.drop(['date_time'], axis=1, inplace=True)\n",
    "    return df\n",
    "    \n",
    "    \n",
    "\n",
    "# Any results you write to the current directory are saved as output.\n",
    "\n",
    "t = timer(None)\n",
    "print(\"Reading trian file and extracting day and hour...\")\n",
    "train = pd.read_csv(TRAIN_PATH,skiprows=SKIP,header=0,usecols=TRAIN_COLUMNS,dtype=DTYPES)\n",
    "print(\"Parsing day, hour from date and making new features\")\n",
    "train = dataPreProcessTime(train)\n",
    "print(train.day.unique())\n",
    "timer(t)"
   ]
  },
  {
   "cell_type": "code",
   "execution_count": 6,
   "metadata": {},
   "outputs": [],
   "source": [
    "\n",
    "#seperate train and val set\n",
    "X_train_8 = train.loc[train.day == 2] #day 7,8"
   ]
  },
  {
   "cell_type": "code",
   "execution_count": 7,
   "metadata": {},
   "outputs": [],
   "source": [
    "X_train_8.to_csv(\"train_day8.csv\", index=False)"
   ]
  },
  {
   "cell_type": "code",
   "execution_count": 1,
   "metadata": {},
   "outputs": [],
   "source": [
    "# maiking train and val csv's\n",
    "\n",
    "import numpy as np # linear algebra\n",
    "import pandas as pd # data processing, CSV file I/O (e.g. pd.read_csv)\n",
    "from datetime import datetime\n"
   ]
  },
  {
   "cell_type": "code",
   "execution_count": 2,
   "metadata": {},
   "outputs": [],
   "source": [
    "day9=pd.read_csv(\"val_day9.csv\")"
   ]
  },
  {
   "cell_type": "code",
   "execution_count": 3,
   "metadata": {},
   "outputs": [
    {
     "data": {
      "text/plain": [
       "53016937"
      ]
     },
     "execution_count": 3,
     "metadata": {},
     "output_type": "execute_result"
    }
   ],
   "source": [
    "len(day9)"
   ]
  },
  {
   "cell_type": "code",
   "execution_count": null,
   "metadata": {},
   "outputs": [],
   "source": []
  }
 ],
 "metadata": {
  "kernelspec": {
   "display_name": "Python 3",
   "language": "python",
   "name": "python3"
  },
  "language_info": {
   "codemirror_mode": {
    "name": "ipython",
    "version": 3
   },
   "file_extension": ".py",
   "mimetype": "text/x-python",
   "name": "python",
   "nbconvert_exporter": "python",
   "pygments_lexer": "ipython3",
   "version": "3.6.3"
  }
 },
 "nbformat": 4,
 "nbformat_minor": 1
}
