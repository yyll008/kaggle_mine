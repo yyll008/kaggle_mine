{
 "cells": [
  {
   "cell_type": "code",
   "execution_count": 1,
   "metadata": {
    "ExecuteTime": {
     "end_time": "2018-03-22T11:18:58.664281Z",
     "start_time": "2018-03-22T11:18:58.254439Z"
    },
    "collapsed": true
   },
   "outputs": [],
   "source": [
    "import cv2\n",
    "import os\n",
    "import sys\n",
    "\n",
    "import numpy as np\n",
    "import matplotlib.pyplot as plt"
   ]
  },
  {
   "cell_type": "code",
   "execution_count": 2,
   "metadata": {
    "ExecuteTime": {
     "end_time": "2018-03-22T11:18:59.212104Z",
     "start_time": "2018-03-22T11:18:59.206222Z"
    },
    "collapsed": true
   },
   "outputs": [],
   "source": [
    "root1 = 'data/'\n",
    "root2 = 'data_pre_processing/'\n",
    "TRAIN_PATH = 'stage1_train/'\n",
    "TEST_PATH = 'stage1_test/'"
   ]
  },
  {
   "cell_type": "code",
   "execution_count": 3,
   "metadata": {
    "ExecuteTime": {
     "end_time": "2018-03-22T11:19:00.514104Z",
     "start_time": "2018-03-22T11:19:00.500001Z"
    }
   },
   "outputs": [
    {
     "name": "stdout",
     "output_type": "stream",
     "text": [
      "670\n",
      "65\n"
     ]
    }
   ],
   "source": [
    "# Get train and test IDs\n",
    "train_ids = next(os.walk(root1+TRAIN_PATH))[1]\n",
    "test_ids = next(os.walk(root1+TEST_PATH))[1]\n",
    "print (len(train_ids))\n",
    "print (len(test_ids))\n"
   ]
  },
  {
   "cell_type": "code",
   "execution_count": 4,
   "metadata": {
    "ExecuteTime": {
     "end_time": "2018-03-22T11:19:11.973646Z",
     "start_time": "2018-03-22T11:19:01.765877Z"
    }
   },
   "outputs": [
    {
     "name": "stdout",
     "output_type": "stream",
     "text": [
      "[ 0.17071716  0.15513969  0.18911588] [ 0.06676521  0.07642292  0.05697663]\n"
     ]
    }
   ],
   "source": [
    "sum1= np.zeros(3)\n",
    "sum2= np.zeros(3) \n",
    "for n, id_ in enumerate(train_ids):\n",
    "    path = root1 + TRAIN_PATH + id_\n",
    "    img = cv2.imread(path + '/images/' + id_ + '.png')\n",
    "    img = img.astype(float)/255\n",
    "    mean_b = np.mean(img[:,:,0])\n",
    "    mean_g = np.mean(img[:,:,1])\n",
    "    mean_r = np.mean(img[:,:,2])\n",
    "\n",
    "    std_b = np.std(img[:,:,0])\n",
    "    std_g = np.std(img[:,:,1])\n",
    "    std_r = np.std(img[:,:,2])\n",
    "\n",
    "    mean_rgb=np.array([mean_r,mean_g,mean_b])\n",
    "    std_rgb=np.array([std_r,std_g,std_b])    \n",
    "    sum1=sum1+ mean_rgb\n",
    "    sum2=sum2+ std_rgb\n",
    "    \n",
    "mean_rgb_train=sum1/len(train_ids)\n",
    "std_rgb_train=sum2/len(train_ids)\n",
    "\n",
    "print (mean_rgb_train,std_rgb_train)"
   ]
  },
  {
   "cell_type": "code",
   "execution_count": 5,
   "metadata": {
    "ExecuteTime": {
     "end_time": "2018-03-22T11:19:16.964167Z",
     "start_time": "2018-03-22T11:19:15.877301Z"
    }
   },
   "outputs": [
    {
     "name": "stdout",
     "output_type": "stream",
     "text": [
      "[ 0.21683351  0.20622558  0.20976349] [ 0.10790828  0.11459805  0.09966981]\n"
     ]
    }
   ],
   "source": [
    "sum1= np.zeros(3)\n",
    "sum2= np.zeros(3) \n",
    "for n, id_ in enumerate(test_ids):\n",
    "    path = root1 + TEST_PATH + id_\n",
    "    img = cv2.imread(path + '/images/' + id_ + '.png')\n",
    "    img = img.astype(float)/255\n",
    "    mean_b = np.mean(img[:,:,0])\n",
    "    mean_g = np.mean(img[:,:,1])\n",
    "    mean_r = np.mean(img[:,:,2])\n",
    "\n",
    "    std_b = np.std(img[:,:,0])\n",
    "    std_g = np.std(img[:,:,1])\n",
    "    std_r = np.std(img[:,:,2])\n",
    "\n",
    "    mean_rgb=np.array([mean_r,mean_g,mean_b])\n",
    "    std_rgb=np.array([std_r,std_g,std_b])    \n",
    "    sum1=sum1+ mean_rgb\n",
    "    sum2=sum2+ std_rgb\n",
    "    \n",
    "mean_rgb_test=sum1/len(test_ids)\n",
    "std_rgb_test=sum2/len(test_ids)\n",
    "\n",
    "print (mean_rgb_test,std_rgb_test)"
   ]
  },
  {
   "cell_type": "code",
   "execution_count": 6,
   "metadata": {
    "ExecuteTime": {
     "end_time": "2018-03-22T11:19:21.106167Z",
     "start_time": "2018-03-22T11:19:21.092437Z"
    }
   },
   "outputs": [
    {
     "data": {
      "text/plain": [
       "(array([ 0.19377533,  0.18068263,  0.19943969]),\n",
       " array([ 0.08733674,  0.09551049,  0.07832322]))"
      ]
     },
     "execution_count": 6,
     "metadata": {},
     "output_type": "execute_result"
    }
   ],
   "source": [
    "mean_=0.5*(mean_rgb_train+mean_rgb_test)\n",
    "std_=0.5*(std_rgb_train+ std_rgb_test)\n",
    "mean_,std_"
   ]
  },
  {
   "cell_type": "code",
   "execution_count": null,
   "metadata": {
    "collapsed": true
   },
   "outputs": [],
   "source": []
  }
 ],
 "metadata": {
  "kernelspec": {
   "display_name": "Python 3",
   "language": "python",
   "name": "python3"
  },
  "language_info": {
   "codemirror_mode": {
    "name": "ipython",
    "version": 3
   },
   "file_extension": ".py",
   "mimetype": "text/x-python",
   "name": "python",
   "nbconvert_exporter": "python",
   "pygments_lexer": "ipython3",
   "version": "3.6.2"
  }
 },
 "nbformat": 4,
 "nbformat_minor": 2
}
